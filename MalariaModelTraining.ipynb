{
 "cells": [
  {
   "cell_type": "code",
   "execution_count": 213,
   "metadata": {},
   "outputs": [
    {
     "name": "stdout",
     "output_type": "stream",
     "text": [
      "Libraries imported successfully!\n"
     ]
    }
   ],
   "source": [
    "import pandas as pd\n",
    "from sklearn.model_selection import train_test_split\n",
    "from sklearn.preprocessing import LabelEncoder\n",
    "from sklearn.ensemble import RandomForestClassifier\n",
    "from sklearn.multioutput import MultiOutputClassifier\n",
    "import joblib\n",
    "\n",
    "print(\"Libraries imported successfully!\")"
   ]
  },
  {
   "cell_type": "code",
   "execution_count": 214,
   "metadata": {},
   "outputs": [
    {
     "name": "stdout",
     "output_type": "stream",
     "text": [
      "Dataset Shape: (10000, 24)\n",
      "\n",
      "First 5 Rows:\n",
      "    fever  chills  sweats  headache  nausea  vomiting  body_aches  \\\n",
      "0      0       0       0         0       0         0           0   \n",
      "1      0       0       0         0       0         0           0   \n",
      "2      0       0       1         0       1         1           0   \n",
      "3      0       0       0         0       0         0           0   \n",
      "4      0       1       0         1       0         0           0   \n",
      "\n",
      "   impaired_consciousness  prostration  convulsions  ...  severe_anemia  Age  \\\n",
      "0                       1            0            0  ...              0   31   \n",
      "1                       1            1            0  ...              0   41   \n",
      "2                       0            0            0  ...              0   23   \n",
      "3                       0            0            0  ...              0   59   \n",
      "4                       0            0            0  ...              0   45   \n",
      "\n",
      "   Weight              Region  Gender  Pregnant  G6PD_Deficiency  \\\n",
      "0      62      Southeast Asia  Female         0                0   \n",
      "1      70               Haiti  Female         0                0   \n",
      "2      89  Dominican Republic  Female         0                1   \n",
      "3      81      Southeast Asia    Male         0                0   \n",
      "4      51      Southeast Asia  Female         1                0   \n",
      "\n",
      "  Previous_Medications         Recommended_Drug  Tablets_Per_Day  \n",
      "0                    0            IV artesunate                2  \n",
      "1                    0            IV artesunate                2  \n",
      "2                    0    Chloroquine phosphate                1  \n",
      "3                    0            IV artesunate                2  \n",
      "4                    0  Artemether-lumefantrine                2  \n",
      "\n",
      "[5 rows x 24 columns]\n",
      "\n",
      "Missing Values:\n",
      " fever                     0\n",
      "chills                    0\n",
      "sweats                    0\n",
      "headache                  0\n",
      "nausea                    0\n",
      "vomiting                  0\n",
      "body_aches                0\n",
      "impaired_consciousness    0\n",
      "prostration               0\n",
      "convulsions               0\n",
      "deep_breathing            0\n",
      "respiratory_distress      0\n",
      "abnormal_bleeding         0\n",
      "jaundice                  0\n",
      "severe_anemia             0\n",
      "Age                       0\n",
      "Weight                    0\n",
      "Region                    0\n",
      "Gender                    0\n",
      "Pregnant                  0\n",
      "G6PD_Deficiency           0\n",
      "Previous_Medications      0\n",
      "Recommended_Drug          0\n",
      "Tablets_Per_Day           0\n",
      "dtype: int64\n",
      "\n",
      "Missing Values After Handling:\n",
      " fever                     0\n",
      "chills                    0\n",
      "sweats                    0\n",
      "headache                  0\n",
      "nausea                    0\n",
      "vomiting                  0\n",
      "body_aches                0\n",
      "impaired_consciousness    0\n",
      "prostration               0\n",
      "convulsions               0\n",
      "deep_breathing            0\n",
      "respiratory_distress      0\n",
      "abnormal_bleeding         0\n",
      "jaundice                  0\n",
      "severe_anemia             0\n",
      "Age                       0\n",
      "Weight                    0\n",
      "Region                    0\n",
      "Gender                    0\n",
      "Pregnant                  0\n",
      "G6PD_Deficiency           0\n",
      "Previous_Medications      0\n",
      "Recommended_Drug          0\n",
      "Tablets_Per_Day           0\n",
      "dtype: int64\n",
      "\n",
      "Training Features Shape: (8000, 22)\n",
      "Testing Features Shape: (2000, 22)\n"
     ]
    }
   ],
   "source": [
    "# Load dataset\n",
    "df = pd.read_csv(\"mDataSet.csv\")\n",
    "print(\"Dataset Shape:\", df.shape)\n",
    "print(\"\\nFirst 5 Rows:\\n\", df.head())\n",
    "print(\"\\nMissing Values:\\n\", df.isnull().sum())\n",
    "\n",
    "# Handle missing values\n",
    "numerical_cols = df.select_dtypes(include=['int64', 'float64']).columns\n",
    "categorical_cols = df.select_dtypes(include=['object']).columns\n",
    "df[numerical_cols] = df[numerical_cols].fillna(df[numerical_cols].median())\n",
    "df[categorical_cols] = df[categorical_cols].fillna(df[categorical_cols].mode().iloc[0])\n",
    "print(\"\\nMissing Values After Handling:\\n\", df.isnull().sum())\n",
    "\n",
    "# Separate features and labels\n",
    "features = df.drop(columns=[\"Recommended_Drug\", \"Tablets_Per_Day\"])\n",
    "labels = df[[\"Recommended_Drug\", \"Tablets_Per_Day\"]].copy()\n",
    "\n",
    "# Encode categorical columns\n",
    "le_region = LabelEncoder()\n",
    "le_gender = LabelEncoder()\n",
    "le_drug = LabelEncoder()\n",
    "le_tablets = LabelEncoder()\n",
    "\n",
    "features[\"Region\"] = le_region.fit_transform(features[\"Region\"])\n",
    "features[\"Gender\"] = le_gender.fit_transform(features[\"Gender\"])\n",
    "labels[\"Recommended_Drug\"] = le_drug.fit_transform(labels[\"Recommended_Drug\"].astype(str))\n",
    "labels[\"Tablets_Per_Day\"] = le_tablets.fit_transform(labels[\"Tablets_Per_Day\"].astype(int))\n",
    "\n",
    "# Split data\n",
    "X_train, X_test, y_train, y_test = train_test_split(features, labels, test_size=0.2, random_state=42)\n",
    "print(\"\\nTraining Features Shape:\", X_train.shape)\n",
    "print(\"Testing Features Shape:\", X_test.shape)"
   ]
  },
  {
   "cell_type": "code",
   "execution_count": 215,
   "metadata": {},
   "outputs": [
    {
     "name": "stdout",
     "output_type": "stream",
     "text": [
      "Training Accuracy: 1.0\n",
      "Test Accuracy: 0.821\n",
      "\n",
      "Drug Accuracy: 0.8435\n",
      "Drug Classification Report:\n",
      "                          precision    recall  f1-score   support\n",
      "\n",
      "Artemether-lumefantrine       0.60      0.55      0.57       382\n",
      "   Atovaquone-proguanil       0.48      0.53      0.51       302\n",
      "  Chloroquine phosphate       1.00      1.00      1.00       713\n",
      "          IV artesunate       1.00      1.00      1.00       603\n",
      "\n",
      "               accuracy                           0.84      2000\n",
      "              macro avg       0.77      0.77      0.77      2000\n",
      "           weighted avg       0.85      0.84      0.84      2000\n",
      "\n",
      "Tablets Accuracy: 0.841\n",
      "Tablets Classification Report:\n",
      "               precision    recall  f1-score   support\n",
      "\n",
      "           1       0.83      0.87      0.85      1015\n",
      "           2       0.86      0.81      0.83       985\n",
      "\n",
      "    accuracy                           0.84      2000\n",
      "   macro avg       0.84      0.84      0.84      2000\n",
      "weighted avg       0.84      0.84      0.84      2000\n",
      "\n"
     ]
    }
   ],
   "source": [
    "# Train the model\n",
    "rf = RandomForestClassifier(n_estimators=100, random_state=42)\n",
    "model = MultiOutputClassifier(rf)\n",
    "model.fit(X_train, y_train)\n",
    "\n",
    "# Evaluate\n",
    "train_score = model.score(X_train, y_train)\n",
    "test_score = model.score(X_test, y_test)\n",
    "print(\"Training Accuracy:\", train_score)\n",
    "print(\"Test Accuracy:\", test_score)\n",
    "\n",
    "# Detailed evaluation\n",
    "y_pred = model.predict(X_test)\n",
    "y_pred_drug = y_pred[:, 0]\n",
    "y_pred_tablets = y_pred[:, 1]\n",
    "print(\"\\nDrug Accuracy:\", accuracy_score(y_test[\"Recommended_Drug\"], y_pred_drug))\n",
    "print(\"Drug Classification Report:\\n\", classification_report(y_test[\"Recommended_Drug\"], y_pred_drug, target_names=le_drug.classes_))\n",
    "print(\"Tablets Accuracy:\", accuracy_score(y_test[\"Tablets_Per_Day\"], y_pred_tablets))\n",
    "print(\"Tablets Classification Report:\\n\", classification_report(y_test[\"Tablets_Per_Day\"], y_pred_tablets, target_names=le_tablets.classes_.astype(str)))"
   ]
  },
  {
   "cell_type": "code",
   "execution_count": 216,
   "metadata": {},
   "outputs": [
    {
     "name": "stdout",
     "output_type": "stream",
     "text": [
      "Model and encoders saved!\n"
     ]
    }
   ],
   "source": [
    "joblib.dump(model, \"malaria_model.pkl\")\n",
    "joblib.dump(le_region, \"le_region.pkl\")\n",
    "joblib.dump(le_gender, \"le_gender.pkl\")\n",
    "joblib.dump(le_drug, \"le_drug.pkl\")\n",
    "joblib.dump(le_tablets, \"le_tablets.pkl\")\n",
    "print(\"Model and encoders saved!\")"
   ]
  },
  {
   "cell_type": "code",
   "execution_count": 217,
   "metadata": {},
   "outputs": [
    {
     "name": "stdout",
     "output_type": "stream",
     "text": [
      "Model loaded!\n"
     ]
    }
   ],
   "source": [
    "import pandas as pd\n",
    "import joblib\n",
    "\n",
    "# Load model and encoders\n",
    "model = joblib.load(\"malaria_model.pkl\")\n",
    "le_region = joblib.load(\"le_region.pkl\")\n",
    "le_gender = joblib.load(\"le_gender.pkl\")\n",
    "le_drug = joblib.load(\"le_drug.pkl\")\n",
    "le_tablets = joblib.load(\"le_tablets.pkl\")\n",
    "\n",
    "def calculate_dosage(drug, weight):\n",
    "    if drug == \"Artemether-lumefantrine\":\n",
    "        if weight < 15:\n",
    "            return \"1 tablet per dose\"\n",
    "        elif weight < 25:\n",
    "            return \"2 tablets per dose\"\n",
    "        elif weight < 35:\n",
    "            return \"3 tablets per dose\"\n",
    "        else:\n",
    "            return \"4 tablets per dose\"\n",
    "    elif drug == \"IV artesunate\":\n",
    "        return f\"{2.4 * weight} mg per dose\"\n",
    "    elif drug == \"Chloroquine phosphate\":\n",
    "        initial = 10 * weight\n",
    "        subsequent = 5 * weight\n",
    "        return f\"Initial: {initial} mg base, Subsequent: {subsequent} mg base per dose\"\n",
    "    elif drug == \"Atovaquone-proguanil\":\n",
    "        if weight < 8:\n",
    "            return \"2 pediatric tablets (62.5 mg atovaquone/25 mg proguanil) per dose\"\n",
    "        elif weight < 10:\n",
    "            return \"3 pediatric tablets (62.5 mg atovaquone/25 mg proguanil) per dose\"\n",
    "        elif weight < 20:\n",
    "            return \"1 adult tablet (250 mg atovaquone/100 mg proguanil) per dose\"\n",
    "        elif weight < 30:\n",
    "            return \"2 adult tablets (250 mg atovaquone/100 mg proguanil) per dose\"\n",
    "        elif weight < 40:\n",
    "            return \"3 adult tablets (250 mg atovaquone/100 mg proguanil) per dose\"\n",
    "        else:\n",
    "            return \"4 adult tablets (250 mg atovaquone/100 mg proguanil) per dose\"\n",
    "    else:\n",
    "        return \"Dosage not defined\"\n",
    "\n",
    "print(\"Model loaded!\")"
   ]
  },
  {
   "cell_type": "code",
   "execution_count": 218,
   "metadata": {},
   "outputs": [
    {
     "name": "stdout",
     "output_type": "stream",
     "text": [
      "Test cases defined!\n"
     ]
    }
   ],
   "source": [
    "# New test cases with detailed patient scenarios\n",
    "\n",
    "test_cases = [\n",
    "    # Case 1: Adult male, uncomplicated malaria, Sub-Saharan Africa\n",
    "    pd.DataFrame({\n",
    "        \"fever\": [1], \"chills\": [1], \"sweats\": [0], \"headache\": [1], \"nausea\": [0], \n",
    "        \"vomiting\": [0], \"body_aches\": [0], \"impaired_consciousness\": [0], \n",
    "        \"prostration\": [0], \"convulsions\": [0], \"deep_breathing\": [0], \n",
    "        \"respiratory_distress\": [0], \"abnormal_bleeding\": [0], \"jaundice\": [0], \n",
    "        \"severe_anemia\": [0], \"Age\": [30], \"Weight\": [70], \n",
    "        \"Region\": le_region.transform([\"Sub-Saharan Africa\"]), \n",
    "        \"Gender\": le_gender.transform([\"Male\"]), \"Pregnant\": [0], \n",
    "        \"G6PD_Deficiency\": [0], \"Previous_Medications\": [0]\n",
    "    }),\n",
    "\n",
    "    # Case 2: Child, severe malaria, Papua New Guinea\n",
    "    pd.DataFrame({\n",
    "        \"fever\": [0], \"chills\": [0], \"sweats\": [0], \"headache\": [0], \"nausea\": [0], \n",
    "        \"vomiting\": [0], \"body_aches\": [0], \"impaired_consciousness\": [1], \n",
    "        \"prostration\": [0], \"convulsions\": [1], \"deep_breathing\": [0], \n",
    "        \"respiratory_distress\": [0], \"abnormal_bleeding\": [0], \"jaundice\": [0], \n",
    "        \"severe_anemia\": [0], \"Age\": [5], \"Weight\": [15], \n",
    "        \"Region\": le_region.transform([\"Papua New Guinea\"]), \n",
    "        \"Gender\": le_gender.transform([\"Female\"]), \"Pregnant\": [0], \n",
    "        \"G6PD_Deficiency\": [0], \"Previous_Medications\": [0]\n",
    "    }),\n",
    "\n",
    "    # Case 3: Pregnant woman, uncomplicated malaria, Haiti\n",
    "    pd.DataFrame({\n",
    "        \"fever\": [1], \"chills\": [0], \"sweats\": [1], \"headache\": [0], \"nausea\": [1], \n",
    "        \"vomiting\": [0], \"body_aches\": [0], \"impaired_consciousness\": [0], \n",
    "        \"prostration\": [0], \"convulsions\": [0], \"deep_breathing\": [0], \n",
    "        \"respiratory_distress\": [0], \"abnormal_bleeding\": [0], \"jaundice\": [0], \n",
    "        \"severe_anemia\": [0], \"Age\": [25], \"Weight\": [10], \n",
    "        \"Region\": le_region.transform([\"Haiti\"]), \n",
    "        \"Gender\": le_gender.transform([\"Female\"]), \"Pregnant\": [1], \n",
    "        \"G6PD_Deficiency\": [0], \"Previous_Medications\": [0]\n",
    "    })\n",
    "]\n",
    "\n",
    "# Confirm that the test cases are defined\n",
    "print(\"Test cases defined!\")\n"
   ]
  },
  {
   "cell_type": "code",
   "execution_count": 219,
   "metadata": {},
   "outputs": [
    {
     "name": "stdout",
     "output_type": "stream",
     "text": [
      "\n",
      "Test Case 1:\n",
      "Recommended Drug: Artemether-lumefantrine\n",
      "Tablets Per Day: 2\n",
      "Dosage: 4 tablets per dose\n",
      "\n",
      "Test Case 2:\n",
      "Recommended Drug: IV artesunate\n",
      "Tablets Per Day: 2\n",
      "Dosage: 36.0 mg per dose\n",
      "\n",
      "Test Case 3:\n",
      "Recommended Drug: Chloroquine phosphate\n",
      "Tablets Per Day: 1\n",
      "Dosage: Initial: 100 mg base, Subsequent: 50 mg base per dose\n"
     ]
    }
   ],
   "source": [
    "for i, case in enumerate(test_cases, 1):\n",
    "    prediction = model.predict(case)\n",
    "    pred_drug = le_drug.inverse_transform([prediction[0][0]])[0]\n",
    "    pred_tablets = le_tablets.inverse_transform([prediction[0][1]])[0]\n",
    "    dosage = calculate_dosage(pred_drug, case[\"Weight\"][0])\n",
    "    print(f\"\\nTest Case {i}:\")\n",
    "    print(f\"Recommended Drug: {pred_drug}\")\n",
    "    print(f\"Tablets Per Day: {pred_tablets}\")\n",
    "    print(f\"Dosage: {dosage}\")"
   ]
  },
  {
   "cell_type": "code",
   "execution_count": 220,
   "metadata": {},
   "outputs": [
    {
     "name": "stdout",
     "output_type": "stream",
     "text": [
      "Recommended_Drug\n",
      "Chloroquine phosphate      3514\n",
      "IV artesunate              2967\n",
      "Artemether-lumefantrine    1860\n",
      "Atovaquone-proguanil       1659\n",
      "Name: count, dtype: int64\n"
     ]
    }
   ],
   "source": [
    "# Add to Cell 2 of TestMalariaModel.ipynb\n",
    "df = pd.read_csv(\"mDataSet.csv\")\n",
    "print(df[\"Recommended_Drug\"].value_counts())"
   ]
  }
 ],
 "metadata": {
  "kernelspec": {
   "display_name": "Python 3",
   "language": "python",
   "name": "python3"
  },
  "language_info": {
   "codemirror_mode": {
    "name": "ipython",
    "version": 3
   },
   "file_extension": ".py",
   "mimetype": "text/x-python",
   "name": "python",
   "nbconvert_exporter": "python",
   "pygments_lexer": "ipython3",
   "version": "3.11.3"
  }
 },
 "nbformat": 4,
 "nbformat_minor": 2
}
